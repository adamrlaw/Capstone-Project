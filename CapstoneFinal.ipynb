{
 "cells": [
  {
   "cell_type": "markdown",
   "metadata": {},
   "source": [
    "\n",
    "<h1>Contents</h1>\n",
    "<h4>\n",
    "    <ul>Abstract</ul>\n",
    "    <ul>Introduction</ul>\n",
    "    <ul>Methodology</ul>\n",
    "    <ul>Results</ul>\n",
    "    <ul>Discussion</ul>\n",
    "    <ul>Conclusion</ul>\n",
    "    </h4>"
   ]
  },
  {
   "cell_type": "markdown",
   "metadata": {},
   "source": [
    "<h1>Abstract</h1>"
   ]
  },
  {
   "cell_type": "markdown",
   "metadata": {},
   "source": [
    "Home apprasials are considred an art form.\n",
    "\n",
    "As there are many variables that can impact a home's market value, the apprasial (or estimation of a home's market value) is simply a 'feeling' at how much a home is worth, given by the appraiser. \n",
    "\n",
    "Because they are highly regulated, home appraisal professionals go through a rigirious training, continuning education and lengthy on-the-job experience before they become licensed apprasiers. This is a must, as home appraisals are routinely relied on for mortgage financing by financial instutions.\n",
    "\n",
    "However, Zillow's introduction of the Zestimator has now offered reliable real estate pricing; challenging appraisals by moving real estate estimation from a 'feeling' to a science. \n",
    "\n",
    "Using Machine-Learning Regression and its ability to weight multiple factors, Zillow is able to accurately give the normal homeowner access to a free estimate of their home based on factors private to Zillow's propriety regression."
   ]
  },
  {
   "cell_type": "markdown",
   "metadata": {},
   "source": [
    "<h1>Introduction</h1>"
   ]
  },
  {
   "cell_type": "markdown",
   "metadata": {},
   "source": [
    "<h3>Description of the problem and discussion of the background</h3>\n",
    "\n",
    "The impact of a home's value is based on many factors; square footage, number of bedrooms, number of bathrooms and utility features like garages or a washroom.\n",
    "\n",
    "But most famiously, the three most important factors for a home's value are 'Location! Location! Location!' Considered a Real Estate agent's mantra, this phrase is the belief that a home's location is the greatest variable of a home's value.\n",
    "\n",
    "This phrase is the basis of our hypothesis:\n",
    "\n",
    "Can the FourSquare api can be used to enhance Zestimator home prices by Location data analysis?\n",
    "\n",
    "Targeting our customer base as Home Owners who can use our estimator to more accurately price their homes."
   ]
  },
  {
   "cell_type": "markdown",
   "metadata": {},
   "source": [
    "<h1>Methodology</h1>"
   ]
  },
  {
   "cell_type": "markdown",
   "metadata": {},
   "source": [
    "<h3>How the data will be used to prove our hypothesis</h3>\n",
    "\n",
    "In order to test our Hypothesis, a baseline home regression estimator will need to be built using parsed real estate data (sqft, bedrooms, bathrooms, longitude, latitude) then an additonal regression estimator will be created using the real estate data coupled with the location venue data from our FourSquare api. This data will include all available FourSquare data in a suitable radius from each home.\n",
    "\n",
    "For our housing market; we will choose the Orlando, Florida area.\n",
    "\n",
    "The two estimators will be compared and if the estimator accuracy is increased by our FourSquare data, then we have proved our hypothesis."
   ]
  },
  {
   "cell_type": "markdown",
   "metadata": {},
   "source": [
    "<h1>Results</h1>"
   ]
  },
  {
   "cell_type": "code",
   "execution_count": 3,
   "metadata": {},
   "outputs": [],
   "source": [
    "# This section will hold the code\n",
    "\n",
    "# Import Libraries\n",
    "\n",
    "    #from bs4 import BeautifulSoup as BS\n",
    "    \n",
    "    #import requests\n",
    "    \n",
    "    #import pandas as pd\n",
    "    \n",
    "    #import numpy as np\n",
    "    \n",
    "    #import folium"
   ]
  },
  {
   "cell_type": "code",
   "execution_count": 4,
   "metadata": {},
   "outputs": [],
   "source": [
    "#Create header for request\n",
    "\n",
    "#Get Results from Zillow\n",
    "\n",
    "#url address\n",
    "\n",
    "#Create Lists to catch results using BeautifulSoup to parse HTML\n",
    "\n",
    "#Iterate through results and append to lists\n",
    "\n",
    "#Create Pandas Data Frame\n",
    "\n",
    "#X = df[[#feature Columns]]\n",
    "\n",
    "#y = df[[#target Column]]\n",
    "\n",
    "#Train estimator\n",
    "\n",
    "#split data set with train_test_split\n",
    "\n",
    "#Evaluate accuracy of estimator with MSE/MAE"
   ]
  },
  {
   "cell_type": "code",
   "execution_count": 5,
   "metadata": {},
   "outputs": [],
   "source": [
    "#Get FourSquare API Data\n",
    "\n",
    "#Create DataFrame of FourSquare Data\n",
    "\n",
    "#Concat FourSquare data to home data\n",
    "\n",
    "#Create new estimator\n",
    "\n",
    "#Evaluate accuracy of estimator with MSE/MAE"
   ]
  },
  {
   "cell_type": "markdown",
   "metadata": {},
   "source": [
    "<h1>Results</h1>"
   ]
  },
  {
   "cell_type": "code",
   "execution_count": 6,
   "metadata": {},
   "outputs": [],
   "source": [
    "#This is where we compare our estimator accuracies"
   ]
  },
  {
   "cell_type": "markdown",
   "metadata": {},
   "source": [
    "<h1>Discussion</h1>"
   ]
  },
  {
   "cell_type": "code",
   "execution_count": 8,
   "metadata": {},
   "outputs": [],
   "source": [
    "# This is where we discuss the results"
   ]
  },
  {
   "cell_type": "markdown",
   "metadata": {},
   "source": [
    "<h1>Conclusion</h1>"
   ]
  },
  {
   "cell_type": "code",
   "execution_count": 9,
   "metadata": {},
   "outputs": [],
   "source": [
    "# Hypothesis conclusion\n",
    "# Visually compare the two estimators in folium\n",
    "# Approve/Disapprove our hypothesis"
   ]
  }
 ],
 "metadata": {
  "kernelspec": {
   "display_name": "Python 3",
   "language": "python",
   "name": "python3"
  },
  "language_info": {
   "codemirror_mode": {
    "name": "ipython",
    "version": 3
   },
   "file_extension": ".py",
   "mimetype": "text/x-python",
   "name": "python",
   "nbconvert_exporter": "python",
   "pygments_lexer": "ipython3",
   "version": "3.6.7"
  }
 },
 "nbformat": 4,
 "nbformat_minor": 2
}
